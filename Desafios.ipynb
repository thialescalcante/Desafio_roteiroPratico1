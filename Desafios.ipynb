{
  "nbformat": 4,
  "nbformat_minor": 0,
  "metadata": {
    "colab": {
      "provenance": [],
      "authorship_tag": "ABX9TyPCsFJS2oiJXaqWycbweUuu",
      "include_colab_link": true
    },
    "kernelspec": {
      "name": "python3",
      "display_name": "Python 3"
    },
    "language_info": {
      "name": "python"
    }
  },
  "cells": [
    {
      "cell_type": "markdown",
      "metadata": {
        "id": "view-in-github",
        "colab_type": "text"
      },
      "source": [
        "<a href=\"https://colab.research.google.com/github/thialescalcante/Desafio_roteiroPratico1/blob/main/Desafios.ipynb\" target=\"_parent\"><img src=\"https://colab.research.google.com/assets/colab-badge.svg\" alt=\"Open In Colab\"/></a>"
      ]
    },
    {
      "cell_type": "code",
      "execution_count": null,
      "metadata": {
        "id": "qGyfSLMu3vRO"
      },
      "outputs": [],
      "source": []
    },
    {
      "cell_type": "markdown",
      "source": [
        "# Desafios"
      ],
      "metadata": {
        "id": "f92NSlEC5iLN"
      }
    },
    {
      "cell_type": "markdown",
      "source": [],
      "metadata": {
        "id": "yaDYMKx-5hYn"
      }
    },
    {
      "cell_type": "markdown",
      "source": [
        "1. Você possui algumas variáveis em Python que descrevem alguns dos seus atributos. Com base nessas variáveis, gere uma apresentação curta de si mesmo:"
      ],
      "metadata": {
        "id": "OqHhuTnf6xZF"
      }
    },
    {
      "cell_type": "code",
      "source": [
        "nome= \"Thiales\"\n",
        "idade = 24\n",
        "cidade = \"São Bernardo do Campo\"\n",
        "\n",
        "print ( \"olá, meu nome é\", nome, \"tenho\", idade, \"anos e moro em\", cidade)"
      ],
      "metadata": {
        "colab": {
          "base_uri": "https://localhost:8080/"
        },
        "id": "T3hxeqgx5lX9",
        "outputId": "e1b6c74a-4a7d-4391-ddf7-87e6d3744ae4"
      },
      "execution_count": 2,
      "outputs": [
        {
          "output_type": "stream",
          "name": "stdout",
          "text": [
            "olá, meu nome é Thiales tenho 24 anos e moro em São Bernardo do Campo\n"
          ]
        }
      ]
    },
    {
      "cell_type": "markdown",
      "source": [
        "2. Dada uma lista de números em Python, Calcule a média dos valores dessa lista:"
      ],
      "metadata": {
        "id": "IcLgkHaO61Rt"
      }
    },
    {
      "cell_type": "code",
      "source": [
        "\n",
        "numeros = [10, 20, 30, 40, 50]\n",
        "\n",
        "if numeros:\n",
        "    media = sum(numeros) / len(numeros)\n",
        "    print(\"A média é:\", media)\n",
        "else:\n",
        "    print(\"A lista está vazia.\")\n"
      ],
      "metadata": {
        "colab": {
          "base_uri": "https://localhost:8080/"
        },
        "id": "cUUtd38i6WuG",
        "outputId": "81f400ec-d183-4c0e-c3eb-ed70ef303d7b"
      },
      "execution_count": 3,
      "outputs": [
        {
          "output_type": "stream",
          "name": "stdout",
          "text": [
            "A média é: 30.0\n"
          ]
        }
      ]
    },
    {
      "cell_type": "markdown",
      "source": [
        "3. Você possui duas listas de Python. Cada lista representa os gastos do mês de dois amigos, João e Pedro. Cada valor na lista representa o gasto em uma das semanas do mês. Seu objetivo é encontrar quem gastou mais dinheiro ao longo do mês, João ou Pedro. Para isso, crie um código em Python que responda a essa pergunta"
      ],
      "metadata": {
        "id": "INLfXFTn69G1"
      }
    },
    {
      "cell_type": "code",
      "source": [
        "\n",
        "gastos_joao = [300, 500, 200, 800]\n",
        "gastos_pedro = [200, 400, 500, 700]\n",
        "\n",
        "total_joao = sum(gastos_joao)\n",
        "total_pedro = sum(gastos_pedro)\n",
        "\n",
        "if total_joao > total_pedro:\n",
        "    print(\"João gastou mais no mês.\")\n",
        "elif total_pedro > total_joao:\n",
        "    print(\"Pedro gastou mais no mês.\")\n",
        "else:\n",
        "    print(\"João e Pedro gastaram o mesmo valor no mês.\")\n",
        "\n",
        "print(f\"Gasto total de João: R${total_joao}\")\n",
        "print(f\"Gasto total de Pedro: R${total_pedro}\")\n"
      ],
      "metadata": {
        "colab": {
          "base_uri": "https://localhost:8080/"
        },
        "id": "cN6v86on7B91",
        "outputId": "f3f151b5-e20b-436e-edb7-471803d4a785"
      },
      "execution_count": 4,
      "outputs": [
        {
          "output_type": "stream",
          "name": "stdout",
          "text": [
            "João e Pedro gastaram o mesmo valor no mês.\n",
            "Gasto total de João: R$1800\n",
            "Gasto total de Pedro: R$1800\n"
          ]
        }
      ]
    }
  ]
}